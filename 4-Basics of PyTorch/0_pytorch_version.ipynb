{
 "cells": [
  {
   "cell_type": "markdown",
   "metadata": {
    "colab_type": "text",
    "id": "NzmzoB3UAJpr"
   },
   "source": [
    "# **SHORT TUTORIAL ABOUT GOOGLE COLAB + PYTORCH**"
   ]
  },
  {
   "cell_type": "markdown",
   "metadata": {
    "colab_type": "text",
    "id": "M1pMk7j--LTm"
   },
   "source": [
    "**INSTALL PYTORCH 0.4.1 VERSION ON GOOGLE COLAB**"
   ]
  },
  {
   "cell_type": "markdown",
   "metadata": {
    "colab_type": "text",
    "id": "Dqn3ZwG4_wqy"
   },
   "source": [
    "**INTRODUCTION**  \n",
    "Hi people! As we advance in the challenge of pytorch, running and getting the results of the network will be increasingly time consuming and computationally costly. So I think strongly recommended use GPU, in this case to execute the labs of the pytorch challenge. In google colab the use of the GPU is free and can be \n",
    "used for up to 12 continuous hours. "
   ]
  },
  {
   "cell_type": "markdown",
   "metadata": {
    "colab_type": "text",
    "id": "Xgcz1aBDBVWY"
   },
   "source": [
    "**STEP 1**  \n",
    "Upload your folder deep-learning-v2-pytorch-master with all your files in google drive.\n",
    "You have some this: ![image](assets/colab1.png)"
   ]
  },
  {
   "cell_type": "markdown",
   "metadata": {
    "colab_type": "text",
    "id": "Tp55NUtPFKMb"
   },
   "source": [
    "**STEP 2**  \n",
    "Access any jupyter notebook open with Colab. ![image](assets/colab2.png)"
   ]
  },
  {
   "cell_type": "markdown",
   "metadata": {
    "colab_type": "text",
    "id": "8DaH9FKLFfBH"
   },
   "source": [
    "**STEP 3**  \n",
    "- Go to the option: Execution environment ==>  change execute environment \n",
    "- Select Python 3 and GPU option"
   ]
  },
  {
   "cell_type": "markdown",
   "metadata": {},
   "source": [
    "![image](assets/colab3.png)"
   ]
  },
  {
   "cell_type": "markdown",
   "metadata": {},
   "source": [
    "![image](assets/colab4.png)"
   ]
  },
  {
   "cell_type": "markdown",
   "metadata": {
    "colab_type": "text",
    "id": "mPCEps1fF4ZC"
   },
   "source": [
    "**STEP 4**  \n",
    "In separate file (in same path of the notebooks **it's same importante i has a problem before because this** ), execute this command and execute"
   ]
  },
  {
   "cell_type": "code",
   "execution_count": 2,
   "metadata": {
    "colab": {
     "base_uri": "https://localhost:8080/",
     "height": 139
    },
    "colab_type": "code",
    "id": "MYLMy6Ch9NK3",
    "outputId": "35408955-ab11-4e60-8bab-8cd786b89fed"
   },
   "outputs": [
    {
     "name": "stdout",
     "output_type": "stream",
     "text": [
      "Collecting torch==0.4.1 from http://download.pytorch.org/whl/cu92/torch-0.4.1-cp36-cp36m-linux_x86_64.whl\n",
      "\u001b[?25l  Downloading http://download.pytorch.org/whl/cu92/torch-0.4.1-cp36-cp36m-linux_x86_64.whl (512.6MB)\n",
      "\u001b[K    100% |████████████████████████████████| 512.6MB 1.1MB/s \n",
      "tcmalloc: large alloc 1073750016 bytes == 0x588d0000 @  0x7faf0b89c2a4 0x591a07 0x5b5d56 0x502e9a 0x506859 0x502209 0x502f3d 0x506859 0x504c28 0x502540 0x502f3d 0x506859 0x504c28 0x502540 0x502f3d 0x506859 0x504c28 0x502540 0x502f3d 0x507641 0x502209 0x502f3d 0x506859 0x504c28 0x502540 0x502f3d 0x507641 0x504c28 0x502540 0x502f3d 0x507641\n",
      "\u001b[?25hInstalling collected packages: torch\n",
      "Successfully installed torch-0.4.1\n"
     ]
    }
   ],
   "source": [
    "!pip3 install http://download.pytorch.org/whl/cu92/torch-0.4.1-cp36-cp36m-linux_x86_64.whl"
   ]
  },
  {
   "cell_type": "code",
   "execution_count": 0,
   "metadata": {
    "colab": {},
    "colab_type": "code",
    "collapsed": true,
    "id": "K-W7LwY-9MHe"
   },
   "outputs": [],
   "source": [
    "import torch"
   ]
  },
  {
   "cell_type": "markdown",
   "metadata": {
    "colab_type": "text",
    "id": "1CVbHd_qGqWE"
   },
   "source": [
    "**Important**  \n",
    "check your pytorch version. It's important because in other famous and very good tutorials (i'm based in this tutorials :) )  \n",
    "[turkey-medium-colab](https://medium.com/deep-learning-turkey/google-colab-free-gpu-tutorial-e113627b9f5d)  \n",
    "[pytorch-gpu-colab](https://jovianlin.io/pytorch-with-gpu-in-google-colab/)  \n",
    "they install pytorch 0.3 version and older version of torchvision.   \n",
    "when you use these older versions and execute some commands in google colab, you will have errors.   \n",
    "Don't worry... if you went through this, delete your path directory in google drive and upload again your files and install 0.4 version of pytorch \n",
    "**(must have other solution but i did not find, if you find, please comment in slack!! :))***  \n",
    "It's much better install 0.4 version and last version of torchvision. "
   ]
  },
  {
   "cell_type": "code",
   "execution_count": 4,
   "metadata": {
    "colab": {
     "base_uri": "https://localhost:8080/",
     "height": 34
    },
    "colab_type": "code",
    "id": "4x-WUbuS9MHv",
    "outputId": "9e764770-1328-42e2-9e79-eaf207a21072"
   },
   "outputs": [
    {
     "data": {
      "text/plain": [
       "'0.4.1'"
      ]
     },
     "execution_count": 4,
     "metadata": {
      "tags": []
     },
     "output_type": "execute_result"
    }
   ],
   "source": [
    "torch.__version__"
   ]
  },
  {
   "cell_type": "markdown",
   "metadata": {
    "colab_type": "text",
    "id": "RpJEi3d6GMvn"
   },
   "source": [
    "**STEP 5**  \n",
    "Install the last version of torchvision package"
   ]
  },
  {
   "cell_type": "markdown",
   "metadata": {
    "colab_type": "text",
    "id": "jg6Hq3W9-XsF"
   },
   "source": [
    "**INSTALL LAST VERSION OF TORCHVISION PACKAGE**"
   ]
  },
  {
   "cell_type": "code",
   "execution_count": 5,
   "metadata": {
    "colab": {
     "base_uri": "https://localhost:8080/",
     "height": 275
    },
    "colab_type": "code",
    "id": "pAbRV2Ey9MIF",
    "outputId": "75f34cc6-ffc6-417c-cb26-ac0b7478fc05"
   },
   "outputs": [
    {
     "name": "stdout",
     "output_type": "stream",
     "text": [
      "Collecting torchvision\n",
      "\u001b[?25l  Downloading https://files.pythonhosted.org/packages/ca/0d/f00b2885711e08bd71242ebe7b96561e6f6d01fdb4b9dcf4d37e2e13c5e1/torchvision-0.2.1-py2.py3-none-any.whl (54kB)\n",
      "\u001b[K    100% |████████████████████████████████| 61kB 3.4MB/s \n",
      "\u001b[?25hCollecting pillow>=4.1.1 (from torchvision)\n",
      "\u001b[?25l  Downloading https://files.pythonhosted.org/packages/62/94/5430ebaa83f91cc7a9f687ff5238e26164a779cca2ef9903232268b0a318/Pillow-5.3.0-cp36-cp36m-manylinux1_x86_64.whl (2.0MB)\n",
      "\u001b[K    100% |████████████████████████████████| 2.0MB 11.3MB/s \n",
      "\u001b[?25hRequirement already satisfied, skipping upgrade: numpy in /usr/local/lib/python3.6/dist-packages (from torchvision) (1.14.6)\n",
      "Requirement already satisfied, skipping upgrade: torch in /usr/local/lib/python3.6/dist-packages (from torchvision) (0.4.1)\n",
      "Requirement already satisfied, skipping upgrade: six in /usr/local/lib/python3.6/dist-packages (from torchvision) (1.11.0)\n",
      "Installing collected packages: pillow, torchvision\n",
      "  Found existing installation: Pillow 4.0.0\n",
      "    Uninstalling Pillow-4.0.0:\n",
      "      Successfully uninstalled Pillow-4.0.0\n",
      "Successfully installed pillow-5.3.0 torchvision-0.2.1\n"
     ]
    }
   ],
   "source": [
    "!pip3 install --upgrade torchvision"
   ]
  },
  {
   "cell_type": "markdown",
   "metadata": {
    "colab_type": "text",
    "id": "vPmTMxiCJoGx"
   },
   "source": [
    "- References:   \n",
    "[turkey-medium-colab](https://medium.com/deep-learning-turkey/google-colab-free-gpu-tutorial-e113627b9f5d)  \n",
    "[pytorch-gpu-colab](https://jovianlin.io/pytorch-with-gpu-in-google-colab/)  \n",
    "[pytorch-0.4](https://discuss.pytorch.org/t/pytorch-0-4-0-on-google-colab/17329)"
   ]
  },
  {
   "cell_type": "code",
   "execution_count": 0,
   "metadata": {
    "colab": {},
    "colab_type": "code",
    "collapsed": true,
    "id": "S63N8Pmz-tGo"
   },
   "outputs": [],
   "source": []
  }
 ],
 "metadata": {
  "colab": {
   "collapsed_sections": [],
   "name": "0-pytorch_version.ipynb",
   "provenance": [],
   "version": "0.3.2"
  },
  "kernelspec": {
   "display_name": "Python 3",
   "language": "python",
   "name": "python3"
  },
  "language_info": {
   "codemirror_mode": {
    "name": "ipython",
    "version": 3
   },
   "file_extension": ".py",
   "mimetype": "text/x-python",
   "name": "python",
   "nbconvert_exporter": "python",
   "pygments_lexer": "ipython3",
   "version": "3.6.2"
  }
 },
 "nbformat": 4,
 "nbformat_minor": 1
}
